{
 "cells": [
  {
   "cell_type": "code",
   "execution_count": 9,
   "outputs": [
    {
     "name": "stdout",
     "output_type": "stream",
     "text": [
      "1 __module__\n",
      "2 TodoList\n",
      "3 TodoList2\n",
      "4 __dict__\n",
      "5 __weakref__\n",
      "6 __doc__\n"
     ]
    }
   ],
   "source": [
    "class Rest():\n",
    "    class TodoList():\n",
    "        def get(self):\n",
    "            return \"Hello World!\"\n",
    "\n",
    "    class TodoList2():\n",
    "        def get(self):\n",
    "            return \"Hello World2!\"\n",
    "\n",
    "\n",
    "for idx, subclass in enumerate(Rest.__dict__, start=1):\n",
    "    print(idx, subclass)"
   ],
   "metadata": {
    "collapsed": false,
    "ExecuteTime": {
     "end_time": "2023-10-26T19:47:29.678597Z",
     "start_time": "2023-10-26T19:47:29.650111Z"
    }
   },
   "id": "a3f7ab17677431e8"
  },
  {
   "cell_type": "code",
   "execution_count": 7,
   "outputs": [
    {
     "name": "stdout",
     "output_type": "stream",
     "text": [
      "TodoList\n",
      "TodoList2\n"
     ]
    }
   ],
   "source": [
    "attributes = Rest.__dict__\n",
    "\n",
    "# Check each attribute\n",
    "for attribute in attributes:\n",
    "    # If attribute is a class (and not a method or variable)\n",
    "    if isinstance(attributes[attribute], type):\n",
    "        print(attribute)"
   ],
   "metadata": {
    "collapsed": false,
    "ExecuteTime": {
     "end_time": "2023-10-26T19:46:58.471091Z",
     "start_time": "2023-10-26T19:46:58.453043100Z"
    }
   },
   "id": "c54a62f3226d1cf"
  },
  {
   "cell_type": "code",
   "execution_count": null,
   "outputs": [],
   "source": [],
   "metadata": {
    "collapsed": false
   },
   "id": "80fcd9b968d27bf9"
  }
 ],
 "metadata": {
  "kernelspec": {
   "display_name": "Python 3",
   "language": "python",
   "name": "python3"
  },
  "language_info": {
   "codemirror_mode": {
    "name": "ipython",
    "version": 2
   },
   "file_extension": ".py",
   "mimetype": "text/x-python",
   "name": "python",
   "nbconvert_exporter": "python",
   "pygments_lexer": "ipython2",
   "version": "2.7.6"
  }
 },
 "nbformat": 4,
 "nbformat_minor": 5
}
